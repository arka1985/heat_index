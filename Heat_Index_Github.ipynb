{
 "cells": [
  {
   "cell_type": "code",
   "execution_count": 1,
   "metadata": {},
   "outputs": [
    {
     "name": "stdout",
     "output_type": "stream",
     "text": [
      "Requirement already satisfied: meteocalc in /anaconda3/lib/python3.6/site-packages (1.1.0)\n",
      "Requirement already satisfied: rich in /anaconda3/lib/python3.6/site-packages (2.2.4)\n",
      "Requirement already satisfied: dataclasses<0.8,>=0.7; python_version >= \"3.6\" and python_version < \"3.7\" in /anaconda3/lib/python3.6/site-packages (from rich) (0.7)\n",
      "Requirement already satisfied: commonmark<0.10.0,>=0.9.0 in /anaconda3/lib/python3.6/site-packages (from rich) (0.9.1)\n",
      "Requirement already satisfied: pygments<3.0.0,>=2.6.0 in /anaconda3/lib/python3.6/site-packages (from rich) (2.6.1)\n",
      "Requirement already satisfied: typing-extensions<4.0.0,>=3.7.4 in /anaconda3/lib/python3.6/site-packages (from rich) (3.7.4.2)\n",
      "Requirement already satisfied: colorama<0.5.0,>=0.4.0 in /anaconda3/lib/python3.6/site-packages (from rich) (0.4.3)\n",
      "Requirement already satisfied: pprintpp<0.5.0,>=0.4.0 in /anaconda3/lib/python3.6/site-packages (from rich) (0.4.0)\n",
      "Put Current Temperature in Fahrenheit:80\n",
      "Put Current relative humidity:80\n",
      "Put Current wind speed in mph:35\n"
     ]
    },
    {
     "data": {
      "text/html": [
       "<pre style=\"white-space:pre;overflow-x:auto;line-height:normal;font-family:Menlo,'DejaVu Sans Mono',consolas,'Courier New',monospace\">Heat Index: <span style=\"color: #000080; font-weight: bold\">84.23041599999999</span>\n",
       "</pre>\n"
      ],
      "text/plain": [
       "<rich.jupyter.JupyterRenderable at 0x10fe5b080>"
      ]
     },
     "metadata": {},
     "output_type": "display_data"
    },
    {
     "data": {
      "text/html": [
       "<pre style=\"white-space:pre;overflow-x:auto;line-height:normal;font-family:Menlo,'DejaVu Sans Mono',consolas,'Courier New',monospace\">Feels Like in fahrenheit: <span style=\"color: #000080; font-weight: bold\">84.23041599999999</span>\n",
       "</pre>\n"
      ],
      "text/plain": [
       "<rich.jupyter.JupyterRenderable at 0x10da9b400>"
      ]
     },
     "metadata": {},
     "output_type": "display_data"
    },
    {
     "data": {
      "text/html": [
       "<pre style=\"white-space:pre;overflow-x:auto;line-height:normal;font-family:Menlo,'DejaVu Sans Mono',consolas,'Courier New',monospace\">Feels Like in Celsius: <span style=\"color: #000080; font-weight: bold\">29.01689777777777</span>\n",
       "</pre>\n"
      ],
      "text/plain": [
       "<rich.jupyter.JupyterRenderable at 0x10e8b63c8>"
      ]
     },
     "metadata": {},
     "output_type": "display_data"
    },
    {
     "data": {
      "text/html": [
       "<pre style=\"white-space:pre;overflow-x:auto;line-height:normal;font-family:Menlo,'DejaVu Sans Mono',consolas,'Courier New',monospace\"><span style=\"color: #808000; font-weight: bold\">Caution:Fatigue possible with prolonged exposure and/or physical activity</span>\n",
       "</pre>\n"
      ],
      "text/plain": [
       "<rich.jupyter.JupyterRenderable at 0x10fe5b080>"
      ]
     },
     "metadata": {},
     "output_type": "display_data"
    }
   ],
   "source": [
    "!pip install meteocalc\n",
    "!pip install rich\n",
    "from meteocalc import Temp, dew_point, heat_index, wind_chill, feels_like\n",
    "from rich.jupyter import print\n",
    "t = input(\"Put Current Temperature in Fahrenheit:\")\n",
    "h = input(\"Put Current relative humidity:\")\n",
    "ws = input(\"Put Current wind speed in mph:\")\n",
    "# calculate Heat Index\n",
    "hi = heat_index(temperature=int(t), humidity=int(h))\n",
    "fl = feels_like(temperature=int(t), humidity=int(h), wind_speed=int(ws))\n",
    "print('Heat Index:',hi)\n",
    "print('Feels Like in fahrenheit:', fl.f)\n",
    "print('Feels Like in Celsius:', fl.c)\n",
    "\n",
    "HI = int(hi)\n",
    "\n",
    "if HI >= 125:\n",
    "    print(\"[bold red]Extreme Danger:Heat stroke highly likely[/]\")\n",
    "elif HI >=103:\n",
    "    print(\"[bold purple]Danger:Heat cramps or heat exhaustion likely, and heat stroke possible with prolonged exposure and/or physical activity[/]\")\n",
    "elif HI >=90:\n",
    "    print(\"[bold orange]Extreme Caution:\\nHeat stroke, heat cramps, or heat exhaustion possible with prolonged exposure and/or physical activity[/]\")\n",
    "elif HI >= 80:\n",
    "    print(\"[bold yellow]Caution:Fatigue possible with prolonged exposure and/or physical activity[/]\")\n",
    "else:\n",
    "    print(\"[bold green]With in Normal Limit[/]\")\n",
    "    os.system('say \"Current Heat Index is less than 80\"')  "
   ]
  },
  {
   "cell_type": "code",
   "execution_count": null,
   "metadata": {},
   "outputs": [],
   "source": []
  }
 ],
 "metadata": {
  "kernelspec": {
   "display_name": "Python 3",
   "language": "python",
   "name": "python3"
  },
  "language_info": {
   "codemirror_mode": {
    "name": "ipython",
    "version": 3
   },
   "file_extension": ".py",
   "mimetype": "text/x-python",
   "name": "python",
   "nbconvert_exporter": "python",
   "pygments_lexer": "ipython3",
   "version": "3.6.9"
  }
 },
 "nbformat": 4,
 "nbformat_minor": 2
}
