{
 "cells": [
  {
   "cell_type": "code",
   "execution_count": 3,
   "metadata": {},
   "outputs": [
    {
     "name": "stdout",
     "output_type": "stream",
     "text": [
      "Put Current Temperature in Fahrenheit:88\n",
      "Put Current relative humidity:87\n",
      "Put Current wind speed in mph:8\n"
     ]
    },
    {
     "data": {
      "text/html": [
       "<pre style=\"white-space:pre;overflow-x:auto;line-height:normal;font-family:Menlo,'DejaVu Sans Mono',consolas,'Courier New',monospace\">Heat Index: <span style=\"color: #000080; font-weight: bold\">111.04696364000024</span>\n",
       "</pre>\n"
      ],
      "text/plain": [
       "<rich.jupyter.JupyterRenderable at 0x1074b26a0>"
      ]
     },
     "metadata": {},
     "output_type": "display_data"
    },
    {
     "data": {
      "text/html": [
       "<pre style=\"white-space:pre;overflow-x:auto;line-height:normal;font-family:Menlo,'DejaVu Sans Mono',consolas,'Courier New',monospace\">Feels Like in fahrenheit: <span style=\"color: #000080; font-weight: bold\">111.04696364000024</span>\n",
       "</pre>\n"
      ],
      "text/plain": [
       "<rich.jupyter.JupyterRenderable at 0x107483710>"
      ]
     },
     "metadata": {},
     "output_type": "display_data"
    },
    {
     "data": {
      "text/html": [
       "<pre style=\"white-space:pre;overflow-x:auto;line-height:normal;font-family:Menlo,'DejaVu Sans Mono',consolas,'Courier New',monospace\">Feels Like in Celsius: <span style=\"color: #000080; font-weight: bold\">43.91497980000013</span>\n",
       "</pre>\n"
      ],
      "text/plain": [
       "<rich.jupyter.JupyterRenderable at 0x107483940>"
      ]
     },
     "metadata": {},
     "output_type": "display_data"
    },
    {
     "data": {
      "text/html": [
       "<pre style=\"white-space:pre;overflow-x:auto;line-height:normal;font-family:Menlo,'DejaVu Sans Mono',consolas,'Courier New',monospace\"><span style=\"color: #af00ff; font-weight: bold\">Damger:Heat cramps or heat exhaustion likely, and heat stroke possible with prolonged </span>\n",
       "<span style=\"color: #af00ff; font-weight: bold\">exposure and/or physical activity</span>\n",
       "</pre>\n"
      ],
      "text/plain": [
       "<rich.jupyter.JupyterRenderable at 0x1074b26d8>"
      ]
     },
     "metadata": {},
     "output_type": "display_data"
    }
   ],
   "source": [
    "from meteocalc import Temp, dew_point, heat_index, wind_chill, feels_like\n",
    "from stringcolor import * \n",
    "from rich.jupyter import print\n",
    "import os\n",
    "import pygame\n",
    "pygame.mixer.init()\n",
    "sound = pygame.mixer.Sound('/Users/arka.doctor/Downloads/beep-01a.wav')\n",
    "t = input(\"Put Current Temperature in Fahrenheit:\")\n",
    "h = input(\"Put Current relative humidity:\")\n",
    "ws = input(\"Put Current wind speed in mph:\")\n",
    "# calculate Heat Index\n",
    "hi = heat_index(temperature=int(t), humidity=int(h))\n",
    "fl = feels_like(temperature=int(t), humidity=int(h), wind_speed=int(ws))\n",
    "print('Heat Index:',hi)\n",
    "print('Feels Like in fahrenheit:', fl.f)\n",
    "print('Feels Like in Celsius:', fl.c)\n",
    "\n",
    "HI = int(hi)\n",
    "\n",
    "if HI >= 125:\n",
    "    print(\"[bold red]Extreme Danger:Heat stroke highly likely[/]\")\n",
    "    os.system('say \"Current Heat Index is more than 125\"')\n",
    "    os.system('say \"Extreme Danger:Heat stroke highly likely\"')\n",
    "    sound.play(10)\n",
    "\n",
    "elif HI >=103:\n",
    "    print(\"[bold purple]Danger:Heat cramps or heat exhaustion likely, and heat stroke possible with prolonged exposure and/or physical activity[/]\")\n",
    "    os.system('say \"Current Heat Index is in between 103 and 125\"')\n",
    "    os.system('say \"Danger:Heat cramps or heat exhaustion likely, and heat stroke possible with prolonged exposure and/or physical activity\"')\n",
    "    sound.play(8)\n",
    "    \n",
    "\n",
    "elif HI >=90:\n",
    "    print(\"[bold orange]Extreme Caution:\\nHeat stroke, heat cramps, or heat exhaustion possible with prolonged exposure and/or physical activity[/]\")\n",
    "    os.system('say \"Current Heat Index is in between 90 and 103\"')\n",
    "    os.system('say \"Extreme Caution:Heat stroke, heat cramps, or heat exhaustion possible with prolonged exposure and/or physical activity\"')\n",
    "    sound.play(6)\n",
    "\n",
    "elif HI >= 80:\n",
    "    print(\"[bold yellow]Caution:Fatigue possible with prolonged exposure and/or physical activity[/]\")\n",
    "    os.system('say \"Current Heat Index is in between 80 and 90\"')\n",
    "    os.system('say \"Caution:Fatigue possible with prolonged exposure and/or physical activity\"')\n",
    "    sound.play(4)\n",
    "\n",
    "else:\n",
    "    print(\"[bold green]With in Normal Limit[/]\")\n",
    "    os.system('say \"Current Heat Index is less than 80\"')\n",
    "    os.system('say \"It is With in Normal Limit and Chance of Heat related problems are unlikely\"')    "
   ]
  },
  {
   "cell_type": "code",
   "execution_count": null,
   "metadata": {},
   "outputs": [],
   "source": []
  }
 ],
 "metadata": {
  "kernelspec": {
   "display_name": "Python 3",
   "language": "python",
   "name": "python3"
  },
  "language_info": {
   "codemirror_mode": {
    "name": "ipython",
    "version": 3
   },
   "file_extension": ".py",
   "mimetype": "text/x-python",
   "name": "python",
   "nbconvert_exporter": "python",
   "pygments_lexer": "ipython3",
   "version": "3.6.9"
  }
 },
 "nbformat": 4,
 "nbformat_minor": 2
}
